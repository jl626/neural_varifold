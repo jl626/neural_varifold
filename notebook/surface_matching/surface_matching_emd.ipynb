{
 "cells": [
  {
   "cell_type": "code",
   "execution_count": 1,
   "metadata": {},
   "outputs": [],
   "source": [
    "import sys\n",
    "sys.path.append( '../..' )\n",
    "import os\n",
    "import torch\n",
    "import torch.nn as nn \n",
    "import torch.nn.functional as F\n",
    "from pytorch3d.io import load_obj, save_obj, load_ply\n",
    "from pytorch3d.structures import Meshes\n",
    "from pytorch3d.utils import ico_sphere\n",
    "from pytorch3d.ops import sample_points_from_meshes\n",
    "from pytorch3d.loss import (\n",
    "    chamfer_distance, \n",
    "    mesh_edge_loss, \n",
    "    mesh_laplacian_smoothing, \n",
    "    mesh_normal_consistency,\n",
    ")\n",
    "\n",
    "from benchmark.evaluation_recon_emd import emdModule\n",
    "import numpy as np\n",
    "from energy import tangent_kernel\n",
    "\n",
    "# Set the device\n",
    "if torch.cuda.is_available():\n",
    "    device = torch.device(\"cuda:0\")\n",
    "else:\n",
    "    device = torch.device(\"cpu\")\n",
    "    print(\"WARNING: CPU only, this will be slow!\")\n",
    "import input_output "
   ]
  },
  {
   "cell_type": "code",
   "execution_count": 2,
   "metadata": {},
   "outputs": [],
   "source": [
    "experiment_name = 'hippo'\n",
    "#experiment_name = 'cup'\n",
    "#experiment_name = 'dolphin'\n"
   ]
  },
  {
   "cell_type": "code",
   "execution_count": 3,
   "metadata": {},
   "outputs": [],
   "source": [
    "# case 1.  \"Cup\"\n",
    "if experiment_name=='cup':\n",
    "    # two different Cups \n",
    "    [VS,FS,FunS] = input_output.loadData(\"../../data/matching/cup2.ply\")\n",
    "    [VT,FT,FunT] = input_output.loadData(\"../../data/matching/cup3_broken.ply\")\n",
    "    source = [VS,FS]\n",
    "    target= [VT,FT]\n",
    "    # original size\n",
    "    print(VS.shape)\n",
    "    print(VT.shape)\n",
    "    # Option 1 Sampling\n",
    "    # Decimate source mesh to compute initialization for the multires algorithm \n",
    "    param_decimation = {'factor':13/16,'Vol_preser':1, 'Fun_Error_Metric': 1, 'Fun_weigth':0.00} #decimate by a factor of 16\n",
    "    [verts1,faces1]= input_output.decimate_mesh(VS,FS,param_decimation)\n",
    "    print(verts1.shape)\n",
    "    param_decimation = {'factor':13/16,'Vol_preser':1, 'Fun_Error_Metric': 1, 'Fun_weigth':0.00} #decimate by a factor of 16\n",
    "    [verts2,faces2]= input_output.decimate_mesh(VT,FT,param_decimation)\n",
    "    print(verts2.shape)\n",
    "    verts1 = torch.FloatTensor(verts1)\n",
    "    verts2 = torch.FloatTensor(verts2)\n",
    "    faces1 = torch.LongTensor(faces1)\n",
    "    faces2 = torch.LongTensor(faces2)\n",
    "# Case 2 Dolphin\n",
    "elif experiment_name == 'dolphin':\n",
    "    # sphere to dolphine \n",
    "    src_mesh = ico_sphere(4)\n",
    "    VT, FT, FunS = load_obj(\"../../data/matching/dolphin.obj\")\n",
    "    VS, FS = src_mesh.verts_packed(), src_mesh.faces_packed()\n",
    "    verts1, faces1 = VS, FS\n",
    "    verts2, faces2 = VT, FT.verts_idx\n",
    "# Case 3 Hippocampus \n",
    "elif experiment_name == 'hippo':\n",
    "    verts1, faces1, verts2, faces2 = torch.load('../../data/matching/hippos_red.pt')\n"
   ]
  },
  {
   "cell_type": "code",
   "execution_count": 4,
   "metadata": {},
   "outputs": [
    {
     "name": "stdout",
     "output_type": "stream",
     "text": [
      "torch.Size([1654, 3])\n",
      "torch.Size([3304, 3])\n"
     ]
    }
   ],
   "source": [
    "# verts is a FloatTensor of shape (V, 3) where V is the number of vertices in the mesh\n",
    "# faces is an object which contains the following LongTensors: verts_idx, normals_idx and textures_idx\n",
    "# For this tutorial, normals and textures are ignored.\n",
    "faces_idx1 = faces1.to(device)\n",
    "faces_idx2 = faces2.to(device)\n",
    "\n",
    "# Mark: obj files\n",
    "#faces_idx1 = faces1.to(device)#.verts_idx.to(device)\n",
    "#faces_idx2 = faces2.verts_idx.to(device)\n",
    "\n",
    "verts1 = verts1.to(device)\n",
    "verts2 = verts2.to(device)\n",
    "# We scale normalize and center the target mesh to fit in a sphere of radius 1 centered at (0,0,0). \n",
    "# (scale, center) will be used to bring the predicted mesh to its original center and scale\n",
    "# Note that normalizing the target mesh, speeds up the optimization but is not necessary!\n",
    "#'''\n",
    "center1 = verts1.mean(0)\n",
    "center2 = verts2.mean(0)\n",
    "verts1 = verts1 - center1\n",
    "verts2 = verts2 - center2\n",
    "scale1 = max(verts1.abs().max(0)[0])\n",
    "scale2 = max(verts2.abs().max(0)[0])\n",
    "verts1 = verts1 / scale1\n",
    "verts2 = verts2 / scale2\n",
    "#'''\n",
    "# We construct a Meshes structure for the target mesh\n",
    "src_mesh = Meshes(verts=[verts1], faces=[faces_idx1])\n",
    "trg_mesh = Meshes(verts=[verts2], faces=[faces_idx2])\n",
    "print(verts2.shape)\n",
    "print(faces2.shape)"
   ]
  },
  {
   "cell_type": "code",
   "execution_count": 5,
   "metadata": {},
   "outputs": [],
   "source": [
    "class testnet(nn.Module):\n",
    "    def __init__(self):\n",
    "        super(testnet, self).__init__()\n",
    "        self.net = nn.Sequential(nn.Linear(6,64),nn.ReLU(),nn.Linear(64,128),nn.ReLU(),nn.Linear(128,3))\n",
    "    def forward(self,x):\n",
    "        return self.net(x)"
   ]
  },
  {
   "cell_type": "code",
   "execution_count": 6,
   "metadata": {},
   "outputs": [],
   "source": [
    "# optimizer setting\n",
    "#deform_verts = torch.full(src_mesh.verts_packed().shape, 0.0, device=device, requires_grad=True)\n",
    "#optimizer = torch.optim.SGD([deform_verts], lr=.01, momentum=0.9)\n",
    "#optimizer = torch.optim.Adam([deform_verts], lr=.001)\n",
    "models = testnet().cuda()\n",
    "optimizer = torch.optim.Adam(models.parameters(), lr=.001)\n",
    "#scheduler = torch.optim.lr_scheduler.MultiStepLR(optimizer, milestones=[501,1001], gamma=0.1)\n",
    "\n",
    "# Number of optimization steps\n",
    "Niter = 2001\n",
    "\n",
    "# loss parameters\n",
    "# weight for emd loss\n",
    "w_emd = 1.0\n",
    "# Weight for mesh edge loss\n",
    "w_edge = 1.0 \n",
    "# Weight for mesh normal consistency\n",
    "w_normal = 0.1 \n",
    "# Weight for mesh laplacian smoothing\n",
    "w_laplacian = 0.1 \n",
    "# Plot period for the losses\n",
    "plot_period = 250\n",
    "\n",
    "\n",
    "chamfer_losses = []\n",
    "laplacian_losses = []\n",
    "edge_losses = []\n",
    "normal_losses = []\n",
    "\n",
    "# EMD loss function\n",
    "emd = emdModule()\n",
    "\n",
    "# varifold loss funciton (PointNet-NTK1 by default)\n",
    "varifold = tangent_kernel(1,1.,0.05)\n",
    "def compute_engine(V1,V2,L1,L2,K):\n",
    "    cst_tmp = []\n",
    "    n_batch = 10000#4096\n",
    "    for i in range(len(V1)//n_batch + 1):\n",
    "        tmp = V1[i*n_batch:(i+1)*n_batch,:]\n",
    "        l_tmp = L1[i*n_batch:(i+1)*n_batch,:]\n",
    "        v = torch.matmul(K(tmp,V2),L2)*l_tmp\n",
    "        cst_tmp.append(v)\n",
    "    cst = torch.sum(torch.cat(cst_tmp,0))\n",
    "    return cst\n",
    "\n",
    "def CompCLNn(F, V):\n",
    "    if F.shape[1] == 2:\n",
    "        V0, V1 = V.index_select(0, F[:, 0]), V.index_select(0, F[:, 1])\n",
    "        C, N  =  (V0 + V1)/2, V1 - V0\n",
    "    else:\n",
    "        V0, V1, V2 = V.index_select(0, F[:, 0]), V.index_select(0, F[:, 1]), V.index_select(0, F[:, 2])\n",
    "        C, N =  (V0 + V1 + V2)/3, .5 * torch.cross(V1 - V0, V2 - V0)\n",
    "\n",
    "    L = (N ** 2).sum(dim=1)[:, None].sqrt()\n",
    "    return C, L, N / L, 1#Fun_F\n",
    "\n",
    "c,l,n,_ = CompCLNn(faces_idx1,verts1)"
   ]
  },
  {
   "cell_type": "code",
   "execution_count": 7,
   "metadata": {},
   "outputs": [
    {
     "name": "stdout",
     "output_type": "stream",
     "text": [
      "0 Iter: total_loss 113.173729 EMD_loss 113.139587 Chamfer_loss 0.152394 Varifold loss 0.00703761\n",
      "250 Iter: total_loss 18.866058 EMD_loss 18.790215 Chamfer_loss 0.113858 Varifold loss 0.11748713\n",
      "500 Iter: total_loss 12.609219 EMD_loss 12.519297 Chamfer_loss 0.122203 Varifold loss 0.32317930\n",
      "750 Iter: total_loss 12.012301 EMD_loss 11.918749 Chamfer_loss 0.124507 Varifold loss 0.36123100\n",
      "1000 Iter: total_loss 10.130040 EMD_loss 10.031770 Chamfer_loss 0.122019 Varifold loss 0.42298260\n",
      "1250 Iter: total_loss 9.516201 EMD_loss 9.411928 Chamfer_loss 0.122881 Varifold loss 0.49384904\n",
      "1500 Iter: total_loss 9.143903 EMD_loss 9.035913 Chamfer_loss 0.121548 Varifold loss 0.56595355\n",
      "1750 Iter: total_loss 10.175159 EMD_loss 10.066812 Chamfer_loss 0.121353 Varifold loss 0.52292991\n",
      "2000 Iter: total_loss 8.662667 EMD_loss 8.551316 Chamfer_loss 0.121417 Varifold loss 0.60952157\n"
     ]
    }
   ],
   "source": [
    "\n",
    "for i in range(Niter):\n",
    "    # Initialize optimizer\n",
    "    optimizer.zero_grad()\n",
    "    # model train\n",
    "    sv, sf = src_mesh.get_mesh_verts_faces(0)\n",
    "    sn = src_mesh.verts_normals_packed()\n",
    "    inputs = torch.cat([sv.cuda(),sn.cuda()],1)\n",
    "    deform_verts = models(inputs) \n",
    "    \n",
    "    # Deform the mesh\n",
    "    new_src_mesh = src_mesh.offset_verts(deform_verts)\n",
    "    f1 = new_src_mesh.faces_packed()\n",
    "    v1 = new_src_mesh.verts_packed()\n",
    "    # We sample 5k points from the surface of each mesh \n",
    "    sample_trg,sample_trg_nor = sample_points_from_meshes(trg_mesh, 2048, return_normals=True)\n",
    "    sample_src,sample_src_nor = sample_points_from_meshes(new_src_mesh, 2048, return_normals=True)\n",
    "    \n",
    "    # varifold loss for reference\n",
    "    with torch.no_grad():\n",
    "        c1,l1,n1,_ = CompCLNn(f1,v1)\n",
    "        c2,l2,n2,_ = CompCLNn(faces_idx2,verts2)\n",
    "        c1 = torch.cat([c1,n1],1)\n",
    "        c2 = torch.cat([c2,n2],1)\n",
    "        v11 = compute_engine(c1,c1,l1,l1,varifold)\n",
    "        v22 = compute_engine(c2,c2,l2,l2,varifold) \n",
    "        v12 = compute_engine(c2,c1,l2,l1,varifold)\n",
    "        loss_varifold = v11 + v22 -2*v12\n",
    "    \n",
    "    # loss EMD \n",
    "    #print(sample_src.shape)\n",
    "    emd_val, _ = emd(sample_src,sample_trg, 1e-3, 3000)\n",
    "    loss_emd = emd_val.sum()\n",
    "\n",
    "    # chamfer loss for reference\n",
    "    loss_chamfer, _ = chamfer_distance(c1.unsqueeze(0), c2.unsqueeze(0))\n",
    "\n",
    "    # and (b) the edge length of the predicted mesh\n",
    "    loss_edge = mesh_edge_loss(new_src_mesh)\n",
    "    \n",
    "    # mesh normal consistency\n",
    "    loss_normal = mesh_normal_consistency(new_src_mesh)\n",
    "    \n",
    "    # mesh laplacian smoothing\n",
    "    loss_laplacian = mesh_laplacian_smoothing(new_src_mesh, method=\"uniform\")\n",
    "    \n",
    "    # Weighted sum of the losses\n",
    "    loss = w_emd *loss_emd + loss_normal * w_normal  + loss_edge * w_edge + loss_laplacian * w_laplacian \n",
    "    \n",
    "    # Print the losses\n",
    "    if i % plot_period==0:\n",
    "        print('%d Iter: total_loss %.6f EMD_loss %.6f Chamfer_loss %.6f Varifold loss %.8f'% (i,loss,loss_emd, loss_chamfer, loss_varifold))\n",
    "    \n",
    "    # Save the losses for plotting\n",
    "    chamfer_losses.append(float(loss_chamfer.detach().cpu()))\n",
    "    edge_losses.append(float(loss_edge.detach().cpu()))\n",
    "    normal_losses.append(float(loss_normal.detach().cpu()))\n",
    "    laplacian_losses.append(float(loss_laplacian.detach().cpu()))\n",
    "        \n",
    "    # Optimization step\n",
    "    loss.backward()\n",
    "    optimizer.step()"
   ]
  },
  {
   "cell_type": "code",
   "execution_count": 8,
   "metadata": {},
   "outputs": [
    {
     "name": "stdout",
     "output_type": "stream",
     "text": [
      "Done!\n"
     ]
    }
   ],
   "source": [
    "# Fetch the verts and faces of the final predicted mesh\n",
    "final_verts, final_faces = new_src_mesh.get_mesh_verts_faces(0)\n",
    "\n",
    "# Scale normalize back to the original target size\n",
    "final_verts = (final_verts) * scale2 + center2\n",
    "\n",
    "# Store the predicted mesh using save_obj\n",
    "save_obj('../../results/emd_%s.obj'%experiment_name, final_verts, final_faces)\n",
    "print('Done!')"
   ]
  },
  {
   "cell_type": "code",
   "execution_count": 9,
   "metadata": {},
   "outputs": [
    {
     "name": "stdout",
     "output_type": "stream",
     "text": [
      "final Chamfer distance: 0.005048\n"
     ]
    }
   ],
   "source": [
    "final_chamfer,_ = chamfer_distance((final_verts.unsqueeze(0).double() - center2)/scale2, verts2.unsqueeze(0).double())\n",
    "print('final Chamfer distance: %.6f'%(final_chamfer.detach().cpu().numpy()))"
   ]
  }
 ],
 "metadata": {
  "kernelspec": {
   "display_name": "jax",
   "language": "python",
   "name": "python3"
  },
  "language_info": {
   "codemirror_mode": {
    "name": "ipython",
    "version": 3
   },
   "file_extension": ".py",
   "mimetype": "text/x-python",
   "name": "python",
   "nbconvert_exporter": "python",
   "pygments_lexer": "ipython3",
   "version": "3.8.16"
  },
  "orig_nbformat": 4
 },
 "nbformat": 4,
 "nbformat_minor": 2
}
