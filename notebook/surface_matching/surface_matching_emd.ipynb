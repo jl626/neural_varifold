{
 "cells": [
  {
   "cell_type": "code",
   "execution_count": 1,
   "metadata": {},
   "outputs": [],
   "source": [
    "import sys\n",
    "sys.path.append( '../..' )\n",
    "import os\n",
    "import torch\n",
    "import torch.nn as nn \n",
    "import torch.nn.functional as F\n",
    "from pytorch3d.io import load_obj, save_obj\n",
    "from pytorch3d.structures import Meshes\n",
    "from pytorch3d.utils import ico_sphere\n",
    "from pytorch3d.ops import sample_points_from_meshes\n",
    "from pytorch3d.loss import chamfer_distance \n",
    "\n",
    "from benchmark.evaluation_recon_emd import emdModule\n",
    "import numpy as np\n",
    "from energy import tangent_kernel\n",
    "\n",
    "# Set the device\n",
    "if torch.cuda.is_available():\n",
    "    device = torch.device(\"cuda:0\")\n",
    "else:\n",
    "    device = torch.device(\"cpu\")\n",
    "    print(\"WARNING: CPU only, this will be slow!\")\n",
    "import input_output \n",
    "\n",
    "#torch.manual_seed(0)\n",
    "torch.use_deterministic_algorithms(True, warn_only=True)"
   ]
  },
  {
   "cell_type": "code",
   "execution_count": 2,
   "metadata": {},
   "outputs": [],
   "source": [
    "experiment_name = 'hippo'\n",
    "#experiment_name = 'cup'\n",
    "#experiment_name = 'dolphin'\n"
   ]
  },
  {
   "cell_type": "code",
   "execution_count": 3,
   "metadata": {},
   "outputs": [],
   "source": [
    "# case 1.  \"Cup\"\n",
    "if experiment_name=='cup':\n",
    "    # two different Cups \n",
    "    [VS,FS,FunS] = input_output.loadData(\"../../data/matching/cup2.ply\")\n",
    "    [VT,FT,FunT] = input_output.loadData(\"../../data/matching/cup3_broken.ply\")\n",
    "    source = [VS,FS]\n",
    "    target= [VT,FT]\n",
    "    # original size\n",
    "    print(VS.shape)\n",
    "    print(VT.shape)\n",
    "    # Option 1 Sampling\n",
    "    # Decimate source mesh to compute initialization for the multires algorithm \n",
    "    param_decimation = {'factor':31/32,'Vol_preser':1, 'Fun_Error_Metric': 1, 'Fun_weigth':0.00} #decimate by a factor of 16\n",
    "    [verts1,faces1]= input_output.decimate_mesh(VS,FS,param_decimation)\n",
    "    print(verts1.shape)\n",
    "    param_decimation = {'factor':31/32,'Vol_preser':1, 'Fun_Error_Metric': 1, 'Fun_weigth':0.00} #decimate by a factor of 16\n",
    "    [verts2,faces2]= input_output.decimate_mesh(VT,FT,param_decimation)\n",
    "    print(verts2.shape)\n",
    "    verts1 = torch.FloatTensor(verts1)\n",
    "    verts2 = torch.FloatTensor(verts2)\n",
    "    faces1 = torch.LongTensor(faces1)\n",
    "    faces2 = torch.LongTensor(faces2)\n",
    "# Case 2 Dolphin\n",
    "elif experiment_name == 'dolphin':\n",
    "    # sphere to dolphine \n",
    "    src_mesh = ico_sphere(4)\n",
    "    VT, FT, FunS = load_obj(\"../../data/matching/dolphin.obj\")\n",
    "    VS, FS = src_mesh.verts_packed(), src_mesh.faces_packed()\n",
    "    verts1, faces1 = VS, FS\n",
    "    verts2, faces2 = VT, FT.verts_idx\n",
    "# Case 3 Hippocampus \n",
    "elif experiment_name == 'hippo':\n",
    "    verts1, faces1, verts2, faces2 = torch.load('../../data/matching/hippos_red.pt')\n"
   ]
  },
  {
   "cell_type": "code",
   "execution_count": 4,
   "metadata": {},
   "outputs": [
    {
     "name": "stdout",
     "output_type": "stream",
     "text": [
      "torch.Size([1654, 3])\n",
      "torch.Size([3304, 3])\n"
     ]
    }
   ],
   "source": [
    "# verts is a FloatTensor of shape (V, 3) where V is the number of vertices in the mesh\n",
    "# faces is an object which contains the following LongTensors: verts_idx, normals_idx and textures_idx\n",
    "# For this tutorial, normals and textures are ignored.\n",
    "faces_idx1 = faces1.to(device)\n",
    "faces_idx2 = faces2.to(device)\n",
    "\n",
    "# Mark: obj files\n",
    "#faces_idx1 = faces1.to(device)#.verts_idx.to(device)\n",
    "#faces_idx2 = faces2.verts_idx.to(device)\n",
    "\n",
    "verts1 = verts1.to(device)\n",
    "verts2 = verts2.to(device)\n",
    "# We scale normalize and center the target mesh to fit in a sphere of radius 1 centered at (0,0,0). \n",
    "# (scale, center) will be used to bring the predicted mesh to its original center and scale\n",
    "# Note that normalizing the target mesh, speeds up the optimization but is not necessary!\n",
    "#'''\n",
    "center1 = verts1.mean(0)\n",
    "center2 = verts2.mean(0)\n",
    "verts1 = verts1 - center1\n",
    "verts2 = verts2 - center2\n",
    "scale1 = max(verts1.abs().max(0)[0])\n",
    "scale2 = max(verts2.abs().max(0)[0])\n",
    "verts1 = verts1 / scale1\n",
    "verts2 = verts2 / scale2\n",
    "#'''\n",
    "# We construct a Meshes structure for the target mesh\n",
    "src_mesh = Meshes(verts=[verts1], faces=[faces_idx1])\n",
    "trg_mesh = Meshes(verts=[verts2], faces=[faces_idx2])\n",
    "print(verts2.shape)\n",
    "print(faces2.shape)"
   ]
  },
  {
   "cell_type": "code",
   "execution_count": 5,
   "metadata": {},
   "outputs": [],
   "source": [
    "class testnet(nn.Module):\n",
    "    def __init__(self):\n",
    "        super(testnet, self).__init__()\n",
    "        self.net = nn.Sequential(nn.Linear(6,64),nn.ReLU(),nn.Linear(64,128),nn.ReLU(),nn.Linear(128,3))\n",
    "    def forward(self,x):\n",
    "        return self.net(x)"
   ]
  },
  {
   "cell_type": "code",
   "execution_count": 6,
   "metadata": {},
   "outputs": [],
   "source": [
    "# optimizer setting\n",
    "models = testnet().cuda()\n",
    "optimizer = torch.optim.Adam(models.parameters(), lr=.001)\n",
    "\n",
    "# Number of optimization steps\n",
    "Niter = 10001\n",
    "\n",
    "# loss parameters\n",
    "# weight for emd loss\n",
    "w_emd = 1.0\n",
    "# Plot period for the losses\n",
    "plot_period = 1000\n",
    "\n",
    "# EMD loss function\n",
    "emd = emdModule()"
   ]
  },
  {
   "cell_type": "code",
   "execution_count": 7,
   "metadata": {},
   "outputs": [
    {
     "name": "stderr",
     "output_type": "stream",
     "text": [
      "/home/juheonlee/anaconda3/envs/jax/lib/python3.8/site-packages/pytorch3d/ops/sample_points_from_meshes.py:91: UserWarning: cumsum_cuda_kernel does not have a deterministic implementation, but you set 'torch.use_deterministic_algorithms(True, warn_only=True)'. You can file an issue at https://github.com/pytorch/pytorch/issues to help us prioritize adding deterministic support for this operation. (Triggered internally at ../aten/src/ATen/Context.cpp:71.)\n",
      "  sample_face_idxs = areas_padded.multinomial(\n",
      "/home/juheonlee/anaconda3/envs/jax/lib/python3.8/site-packages/torch/autograd/__init__.py:200: UserWarning: Deterministic behavior was enabled with either `torch.use_deterministic_algorithms(True)` or `at::Context::setDeterministicAlgorithms(true)`, but this operation is not deterministic because it uses CuBLAS and you have CUDA >= 10.2. To enable deterministic behavior in this case, you must set an environment variable before running your PyTorch application: CUBLAS_WORKSPACE_CONFIG=:4096:8 or CUBLAS_WORKSPACE_CONFIG=:16:8. For more information, go to https://docs.nvidia.com/cuda/cublas/index.html#cublasApi_reproducibility (Triggered internally at ../aten/src/ATen/Context.cpp:156.)\n",
      "  Variable._execution_engine.run_backward(  # Calls into the C++ engine to run the backward pass\n"
     ]
    },
    {
     "name": "stdout",
     "output_type": "stream",
     "text": [
      "0 Iter: total_loss 84.126343 EMD_loss 84.126343 Chamfer_loss 0.032949\n",
      "current best loss is 0: 84.126343\n",
      "1000 Iter: total_loss 8.336294 EMD_loss 8.336294 Chamfer_loss 0.001856\n",
      "current best loss is 103: 6.409947\n",
      "2000 Iter: total_loss 6.948533 EMD_loss 6.948533 Chamfer_loss 0.001509\n",
      "current best loss is 1958: 6.399203\n",
      "3000 Iter: total_loss 6.386633 EMD_loss 6.386633 Chamfer_loss 0.001379\n",
      "current best loss is 2912: 6.034945\n",
      "4000 Iter: total_loss 6.448135 EMD_loss 6.448135 Chamfer_loss 0.001390\n",
      "current best loss is 3076: 5.759430\n",
      "5000 Iter: total_loss 7.138906 EMD_loss 7.138906 Chamfer_loss 0.001429\n",
      "current best loss is 4406: 5.627448\n",
      "6000 Iter: total_loss 5.846649 EMD_loss 5.846649 Chamfer_loss 0.001252\n",
      "current best loss is 5506: 5.301846\n",
      "7000 Iter: total_loss 5.738973 EMD_loss 5.738973 Chamfer_loss 0.001196\n",
      "current best loss is 6949: 4.915416\n",
      "8000 Iter: total_loss 5.193116 EMD_loss 5.193116 Chamfer_loss 0.001131\n",
      "current best loss is 7851: 4.763547\n",
      "9000 Iter: total_loss 5.493594 EMD_loss 5.493594 Chamfer_loss 0.001132\n",
      "current best loss is 8541: 4.713275\n",
      "10000 Iter: total_loss 5.102096 EMD_loss 5.102096 Chamfer_loss 0.001101\n",
      "current best loss is 8541: 4.713275\n"
     ]
    }
   ],
   "source": [
    "\n",
    "best = None\n",
    "best_loss = 0\n",
    "best_iter = 0\n",
    "for i in range(Niter):\n",
    "\n",
    "    # Initialize optimizer\n",
    "    optimizer.zero_grad()\n",
    "    # model train\n",
    "    sv, sf = src_mesh.get_mesh_verts_faces(0)\n",
    "    sn = src_mesh.verts_normals_packed()\n",
    "    inputs = torch.cat([sv.cuda(),sn.cuda()],1)\n",
    "    deform_verts = models(inputs) \n",
    "    \n",
    "    # Deform the mesh\n",
    "    new_src_mesh = src_mesh.offset_verts(deform_verts)\n",
    "    f1 = new_src_mesh.faces_packed()\n",
    "    v1 = new_src_mesh.verts_packed()\n",
    "    # We sample 5k points from the surface of each mesh \n",
    "    sample_trg,sample_trg_nor = sample_points_from_meshes(trg_mesh, 4096, return_normals=True)\n",
    "    sample_src,sample_src_nor = sample_points_from_meshes(new_src_mesh, 4096, return_normals=True)\n",
    "\n",
    "    # loss EMD \n",
    "    #print(sample_src.shape)\n",
    "    emd_val, _ = emd(sample_src,sample_trg, 1e-3*5, 50)\n",
    "    loss_emd = emd_val.sum()\n",
    "    \n",
    "    loss_chamfer, _ = chamfer_distance(sample_src, sample_trg)\n",
    "\n",
    "    # Weighted sum of the losses\n",
    "    loss = loss_emd \n",
    "\n",
    "    if best_loss == 0:\n",
    "        best = deform_verts\n",
    "        best_loss = loss.detach()\n",
    "        best_iter = 0\n",
    "    elif best_loss > loss.detach():\n",
    "        best = deform_verts\n",
    "        best_loss = loss.detach()\n",
    "        best_iter = i\n",
    "        #torch.save(models.state_dict(),'../../results/emd_%s_n.pth'%experiment_name)\n",
    "    \n",
    "    # Print the losses\n",
    "    if i % plot_period==0:\n",
    "        print('%d Iter: total_loss %.6f EMD_loss %.6f Chamfer_loss %.6f'% (i,loss,loss_emd, loss_chamfer))\n",
    "        print('current best loss is %d: %.6f'%(best_iter,best_loss))\n",
    "        \n",
    "    # Optimization step\n",
    "    loss.backward()\n",
    "    optimizer.step()"
   ]
  },
  {
   "cell_type": "code",
   "execution_count": 8,
   "metadata": {},
   "outputs": [
    {
     "name": "stdout",
     "output_type": "stream",
     "text": [
      "Done!\n"
     ]
    }
   ],
   "source": [
    "# Fetch the verts and faces of the final predicted mesh\n",
    "new_src_mesh = src_mesh.offset_verts(best)\n",
    "final_verts, final_faces = new_src_mesh.get_mesh_verts_faces(0)\n",
    "\n",
    "# Scale normalize back to the original target size\n",
    "final_verts = (final_verts) * scale2 + center2\n",
    "\n",
    "# Store the predicted mesh using save_obj\n",
    "save_obj('../../results/%s/emd_%s.obj'%(experiment_name,experiment_name), final_verts, final_faces)\n",
    "print('Done!')"
   ]
  },
  {
   "cell_type": "code",
   "execution_count": 9,
   "metadata": {},
   "outputs": [
    {
     "name": "stdout",
     "output_type": "stream",
     "text": [
      "final Chamfer distance: 0.005638\n"
     ]
    }
   ],
   "source": [
    "final_chamfer,_ = chamfer_distance((final_verts.unsqueeze(0).double() - center2)/scale2, verts2.unsqueeze(0).double())\n",
    "print('final Chamfer distance: %.6f'%(final_chamfer.detach().cpu().numpy()))"
   ]
  }
 ],
 "metadata": {
  "kernelspec": {
   "display_name": "jax",
   "language": "python",
   "name": "python3"
  },
  "language_info": {
   "codemirror_mode": {
    "name": "ipython",
    "version": 3
   },
   "file_extension": ".py",
   "mimetype": "text/x-python",
   "name": "python",
   "nbconvert_exporter": "python",
   "pygments_lexer": "ipython3",
   "version": "3.8.16"
  },
  "orig_nbformat": 4
 },
 "nbformat": 4,
 "nbformat_minor": 2
}
