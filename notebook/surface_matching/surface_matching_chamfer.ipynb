{
 "cells": [
  {
   "cell_type": "code",
   "execution_count": 1,
   "metadata": {},
   "outputs": [],
   "source": [
    "import sys\n",
    "sys.path.append( '../..' )\n",
    "import os\n",
    "import torch\n",
    "import torch.nn as nn \n",
    "import torch.nn.functional as F\n",
    "from pytorch3d.io import load_obj, save_obj\n",
    "from pytorch3d.structures import Meshes\n",
    "from pytorch3d.utils import ico_sphere\n",
    "from pytorch3d.ops import sample_points_from_meshes\n",
    "from pytorch3d.loss import chamfer_distance\n",
    "import numpy as np\n",
    "from energy import tangent_kernel\n",
    "\n",
    "# Set the device\n",
    "if torch.cuda.is_available():\n",
    "    device = torch.device(\"cuda:0\")\n",
    "else:\n",
    "    device = torch.device(\"cpu\")\n",
    "    print(\"WARNING: CPU only, this will be slow!\")\n",
    "import input_output "
   ]
  },
  {
   "cell_type": "code",
   "execution_count": 2,
   "metadata": {},
   "outputs": [],
   "source": [
    "#experiment_name = 'cup'\n",
    "#experiment_name = 'dolphin'\n",
    "#experiment_name = 'hippo'\n",
    "experiment_name = 'bunny'"
   ]
  },
  {
   "cell_type": "code",
   "execution_count": 3,
   "metadata": {},
   "outputs": [
    {
     "name": "stderr",
     "output_type": "stream",
     "text": [
      "/home/juheonlee/anaconda3/envs/jax/lib/python3.8/site-packages/pytorch3d/io/obj_io.py:544: UserWarning: No mtl file provided\n",
      "  warnings.warn(\"No mtl file provided\")\n"
     ]
    },
    {
     "name": "stdout",
     "output_type": "stream",
     "text": [
      "(242, 3)\n",
      "(1089, 3)\n"
     ]
    }
   ],
   "source": [
    "# We read the target 3D model using load_obj\n",
    "# case 1.  \"Cup\"\n",
    "low = 31\n",
    "mid = 26\n",
    "high = 20\n",
    "if experiment_name=='cup':\n",
    "    # two different Cups \n",
    "    [VS,FS,FunS] = input_output.loadData(\"../../data/matching/cup2.ply\")\n",
    "    [VT,FT,FunT] = input_output.loadData(\"../../data/matching/cup3_broken.ply\")\n",
    "    source = [VS,FS]\n",
    "    target= [VT,FT]\n",
    "    # original size\n",
    "    print(VS.shape)\n",
    "    print(VT.shape)\n",
    "    # Option 1 Sampling\n",
    "    # Decimate source mesh to compute initialization for the multires algorithm \n",
    "    param_decimation = {'factor':26/32,'Vol_preser':1, 'Fun_Error_Metric': 1, 'Fun_weigth':0.00} #decimate by a factor of 32\n",
    "    [verts1,faces1]= input_output.decimate_mesh(VS,FS,param_decimation)\n",
    "    print(verts1.shape)\n",
    "    param_decimation = {'factor':26/32,'Vol_preser':1, 'Fun_Error_Metric': 1, 'Fun_weigth':0.00} #decimate by a factor of 32\n",
    "    [verts2,faces2]= input_output.decimate_mesh(VT,FT,param_decimation)\n",
    "    print(verts2.shape)\n",
    "    verts1 = torch.FloatTensor(verts1)\n",
    "    verts2 = torch.FloatTensor(verts2)\n",
    "    faces1 = torch.LongTensor(faces1)\n",
    "    faces2 = torch.LongTensor(faces2)\n",
    "    save_obj('../../results/cup2_mid.obj', verts1, faces1)\n",
    "    save_obj('../../results/cup3_broken_mid.obj', verts2, faces2)\n",
    "# Case 2 Dolphin\n",
    "elif experiment_name == 'dolphin':\n",
    "    # sphere to dolphine \n",
    "    src_mesh = ico_sphere(4)\n",
    "    VT, FT, FunS = load_obj(\"../../data/matching/dolphin.obj\")\n",
    "    VS, FS = src_mesh.verts_packed(), src_mesh.faces_packed()\n",
    "    verts1, faces1 = VS, FS\n",
    "    verts2, faces2 = VT, FT.verts_idx\n",
    "    \n",
    "# Case 3 Hippocampus \n",
    "elif experiment_name == 'hippo':\n",
    "    verts1, faces1, verts2, faces2 = torch.load('../../data/matching/hippos_red.pt')\n",
    "    param_decimation = {'factor':13/16,'Vol_preser':1, 'Fun_Error_Metric': 1, 'Fun_weigth':0.00} #decimate by a factor of 16\n",
    "    [verts1,faces1]= input_output.decimate_mesh(verts1.numpy(),faces1.numpy(),param_decimation)\n",
    "    print(verts1.shape)\n",
    "    param_decimation = {'factor':13/16,'Vol_preser':1, 'Fun_Error_Metric': 1, 'Fun_weigth':0.00} #decimate by a factor of 16\n",
    "    [verts2,faces2]= input_output.decimate_mesh(verts2.numpy(),faces2.numpy(),param_decimation)\n",
    "    verts1 = torch.FloatTensor(verts1)\n",
    "    verts2 = torch.FloatTensor(verts2)\n",
    "    faces1 = torch.LongTensor(faces1)\n",
    "    faces2 = torch.LongTensor(faces2)\n",
    "    save_obj('../../results/hippo_source_low.obj', verts1, faces1)\n",
    "    save_obj('../../results/hippo_target_low.obj', verts2, faces2)\n",
    "\n",
    "    #verts1, faces1, verts2, faces2 = torch.load('../../data/matching/hippos_red.pt')\n",
    "    #save_obj('../../results/hippo_source.obj', verts1, faces1)\n",
    "    #save_obj('../../results/hippo_target.obj', verts2, faces2)\n",
    "\n",
    "# Case 2 Dolphin\n",
    "elif experiment_name == 'bunny':\n",
    "    # sphere to dolphine \n",
    "    src_mesh = ico_sphere(4)\n",
    "    VT, FT, FunS = load_obj(\"../../data/matching/bunny.obj\")\n",
    "    VS, FS = src_mesh.verts_packed(), src_mesh.faces_packed()\n",
    "    # Decimate source mesh to compute initialization for the multires algorithm \n",
    "    param_decimation = {'factor':29/32,'Vol_preser':1, 'Fun_Error_Metric': 1, 'Fun_weigth':0.00} #decimate by a factor of 16\n",
    "    [verts1,faces1]= input_output.decimate_mesh(VS.numpy(),FS.numpy(),param_decimation)\n",
    "    print(verts1.shape)\n",
    "    param_decimation = {'factor':31/32,'Vol_preser':1, 'Fun_Error_Metric': 1, 'Fun_weigth':0.00} #decimate by a factor of 16\n",
    "    [verts2,faces2]= input_output.decimate_mesh(VT.numpy(),FT.verts_idx.numpy(),param_decimation)\n",
    "    print(verts2.shape)\n",
    "    verts1 = torch.FloatTensor(verts1)\n",
    "    verts2 = torch.FloatTensor(verts2)\n",
    "    faces1 = torch.LongTensor(faces1)\n",
    "    faces2 = torch.LongTensor(faces2)"
   ]
  },
  {
   "cell_type": "code",
   "execution_count": 4,
   "metadata": {},
   "outputs": [
    {
     "name": "stdout",
     "output_type": "stream",
     "text": [
      "torch.Size([242, 3])\n",
      "torch.Size([1089, 3])\n"
     ]
    }
   ],
   "source": [
    "# verts is a FloatTensor of shape (V, 3) where V is the number of vertices in the mesh\n",
    "# faces is an object which contains the following LongTensors: verts_idx, normals_idx and textures_idx\n",
    "# For this tutorial, normals and textures are ignored.\n",
    "faces_idx1 = faces1.to(device)\n",
    "faces_idx2 = faces2.to(device)\n",
    "\n",
    "# Mark: obj files\n",
    "#faces_idx1 = faces1.to(device)#.verts_idx.to(device)\n",
    "#faces_idx2 = faces2.verts_idx.to(device)\n",
    "\n",
    "verts1 = verts1.to(device)\n",
    "verts2 = verts2.to(device)\n",
    "# We scale normalize and center the target mesh to fit in a sphere of radius 1 centered at (0,0,0). \n",
    "# (scale, center) will be used to bring the predicted mesh to its original center and scale\n",
    "# Note that normalizing the target mesh, speeds up the optimization but is not necessary!\n",
    "#'''\n",
    "center1 = verts1.mean(0)\n",
    "center2 = verts2.mean(0)\n",
    "verts1 = verts1 - center1\n",
    "verts2 = verts2 - center2\n",
    "scale1 = max(verts1.abs().max(0)[0])\n",
    "scale2 = max(verts2.abs().max(0)[0])\n",
    "verts1 = verts1 / scale1\n",
    "verts2 = verts2 / scale2\n",
    "#'''\n",
    "# We construct a Meshes structure for the target mesh\n",
    "src_mesh = Meshes(verts=[verts1], faces=[faces_idx1])\n",
    "trg_mesh = Meshes(verts=[verts2], faces=[faces_idx2])\n",
    "print(verts1.shape)\n",
    "print(verts2.shape)\n",
    "#save_obj('../../results/cup2.obj',verts1,faces1)\n",
    "#save_obj('../../results/cup3_broken.obj',verts2,faces2)\n"
   ]
  },
  {
   "cell_type": "code",
   "execution_count": 5,
   "metadata": {},
   "outputs": [],
   "source": [
    "class testnet(nn.Module):\n",
    "    def __init__(self):\n",
    "        super(testnet, self).__init__()\n",
    "        self.net = nn.Sequential(nn.Linear(6,64),\n",
    "                                 nn.ReLU(),\n",
    "                                 nn.Linear(64,128),\n",
    "                                 nn.ReLU(),\n",
    "                                 nn.Linear(128,3))\n",
    "    def forward(self,x):\n",
    "        return self.net(x)"
   ]
  },
  {
   "cell_type": "code",
   "execution_count": 6,
   "metadata": {},
   "outputs": [],
   "source": [
    "# optimizer setting\n",
    "models = testnet().cuda()\n",
    "optimizer = torch.optim.Adam(models.parameters(), lr=.001)\n",
    "# Number of optimization steps\n",
    "Niter = 20001\n",
    "\n",
    "# loss parameters\n",
    "# Weight for the chamfer loss\n",
    "w_chamfer = 1.0 \n",
    "# Plot period for the losses\n",
    "plot_period = 1000\n",
    "\n",
    "chamfer_losses=[]"
   ]
  },
  {
   "cell_type": "code",
   "execution_count": 7,
   "metadata": {},
   "outputs": [
    {
     "name": "stdout",
     "output_type": "stream",
     "text": [
      "0 Iter: total_loss 0.306388 Chamfer_loss 0.306388 Varifold loss 0.00000000\n",
      "current best loss is 0: 0.306388\n",
      "1000 Iter: total_loss 0.002033 Chamfer_loss 0.002033 Varifold loss 0.00000000\n",
      "current best loss is 988: 0.001898\n",
      "2000 Iter: total_loss 0.001323 Chamfer_loss 0.001323 Varifold loss 0.00000000\n",
      "current best loss is 1993: 0.001258\n",
      "3000 Iter: total_loss 0.001173 Chamfer_loss 0.001173 Varifold loss 0.00000000\n",
      "current best loss is 2962: 0.001156\n",
      "4000 Iter: total_loss 0.001141 Chamfer_loss 0.001141 Varifold loss 0.00000000\n",
      "current best loss is 3701: 0.001118\n",
      "5000 Iter: total_loss 0.001137 Chamfer_loss 0.001137 Varifold loss 0.00000000\n",
      "current best loss is 4258: 0.001107\n",
      "6000 Iter: total_loss 0.001135 Chamfer_loss 0.001135 Varifold loss 0.00000000\n",
      "current best loss is 5020: 0.001086\n",
      "7000 Iter: total_loss 0.001127 Chamfer_loss 0.001127 Varifold loss 0.00000000\n",
      "current best loss is 6658: 0.001078\n",
      "8000 Iter: total_loss 0.001129 Chamfer_loss 0.001129 Varifold loss 0.00000000\n",
      "current best loss is 7981: 0.001072\n",
      "9000 Iter: total_loss 0.001097 Chamfer_loss 0.001097 Varifold loss 0.00000000\n",
      "current best loss is 8913: 0.001068\n",
      "10000 Iter: total_loss 0.001104 Chamfer_loss 0.001104 Varifold loss 0.00000000\n",
      "current best loss is 8913: 0.001068\n",
      "11000 Iter: total_loss 0.001089 Chamfer_loss 0.001089 Varifold loss 0.00000000\n",
      "current best loss is 10228: 0.001062\n",
      "12000 Iter: total_loss 0.001124 Chamfer_loss 0.001124 Varifold loss 0.00000000\n",
      "current best loss is 11008: 0.001060\n",
      "13000 Iter: total_loss 0.001106 Chamfer_loss 0.001106 Varifold loss 0.00000000\n",
      "current best loss is 11008: 0.001060\n",
      "14000 Iter: total_loss 0.001128 Chamfer_loss 0.001128 Varifold loss 0.00000000\n",
      "current best loss is 13119: 0.001053\n",
      "15000 Iter: total_loss 0.001096 Chamfer_loss 0.001096 Varifold loss 0.00000000\n",
      "current best loss is 13119: 0.001053\n",
      "16000 Iter: total_loss 0.001089 Chamfer_loss 0.001089 Varifold loss 0.00000000\n",
      "current best loss is 15861: 0.001048\n",
      "17000 Iter: total_loss 0.001167 Chamfer_loss 0.001167 Varifold loss 0.00000000\n",
      "current best loss is 15861: 0.001048\n",
      "18000 Iter: total_loss 0.001116 Chamfer_loss 0.001116 Varifold loss 0.00000000\n",
      "current best loss is 15861: 0.001048\n",
      "19000 Iter: total_loss 0.001094 Chamfer_loss 0.001094 Varifold loss 0.00000000\n",
      "current best loss is 15861: 0.001048\n",
      "20000 Iter: total_loss 0.001086 Chamfer_loss 0.001086 Varifold loss 0.00000000\n",
      "current best loss is 15861: 0.001048\n"
     ]
    }
   ],
   "source": [
    "\n",
    "best = None\n",
    "best_loss = 0\n",
    "best_iter = 0\n",
    "for i in range(Niter):\n",
    "    # Initialize optimizer\n",
    "    optimizer.zero_grad()\n",
    "    # model train\n",
    "    sv, sf = src_mesh.get_mesh_verts_faces(0)\n",
    "    sn = src_mesh.verts_normals_packed()\n",
    "    inputs = torch.cat([sv.cuda(),sn.cuda()],1)\n",
    "    deform_verts = models(inputs) \n",
    "\n",
    "    # Deform the mesh\n",
    "    new_src_mesh = src_mesh.offset_verts(deform_verts)\n",
    "    f1 = new_src_mesh.faces_packed()\n",
    "    v1 = new_src_mesh.verts_packed()\n",
    "\n",
    "    # We sample 5k points from the surface of each mesh \n",
    "    sample_trg,sample_trg_nor = sample_points_from_meshes(trg_mesh, 4096, return_normals=True)\n",
    "    sample_src,sample_src_nor = sample_points_from_meshes(new_src_mesh, 4096, return_normals=True)\n",
    "    \n",
    "    # We compare the two sets of pointclouds by computing (a) the chamfer loss\n",
    "    loss_chamfer, _ = chamfer_distance(sample_src, sample_trg)\n",
    "    \n",
    "    loss_varifold = 0.  \n",
    "    # Weighted sum of the losses\n",
    "    loss =  loss_chamfer*w_chamfer\n",
    "    \n",
    "    if best_loss == 0:\n",
    "        best = deform_verts\n",
    "        best_loss = loss.detach()\n",
    "        best_iter = 0\n",
    "    elif best_loss > loss.detach():\n",
    "        best = deform_verts\n",
    "        best_loss = loss.detach()\n",
    "        best_iter = i\n",
    "        torch.save(models.state_dict(),'../../results/chamfer_%s_n.pth'%experiment_name)\n",
    "\n",
    "    # Print the losses\n",
    "    if i % plot_period==0:\n",
    "        print('%d Iter: total_loss %.6f Chamfer_loss %.6f Varifold loss %.8f'% (i,loss,loss_chamfer, loss_varifold))\n",
    "        print('current best loss is %d: %.6f'%(best_iter,best_loss))\n",
    "    \n",
    "    # Save the losses for plotting\n",
    "    chamfer_losses.append(float(loss_chamfer.detach().cpu()))\n",
    "        \n",
    "    # Optimization step\n",
    "    loss.backward()\n",
    "    optimizer.step()"
   ]
  },
  {
   "cell_type": "code",
   "execution_count": 8,
   "metadata": {},
   "outputs": [
    {
     "name": "stdout",
     "output_type": "stream",
     "text": [
      "Done!\n"
     ]
    }
   ],
   "source": [
    "# Fetch the verts and faces of the final predicted mesh\n",
    "new_src_mesh = src_mesh.offset_verts(best)\n",
    "final_verts, final_faces = new_src_mesh.get_mesh_verts_faces(0)\n",
    "\n",
    "# Scale normalize back to the original target size\n",
    "final_verts = (final_verts) * scale2 + center2\n",
    "\n",
    "# Store the predicted mesh using save_obj\n",
    "save_obj('../../results/chamfer_%s_low.obj'%(experiment_name), final_verts, final_faces)\n",
    "print('Done!')"
   ]
  },
  {
   "cell_type": "code",
   "execution_count": 9,
   "metadata": {},
   "outputs": [
    {
     "name": "stdout",
     "output_type": "stream",
     "text": [
      "final Chamfer distance: 0.009227\n"
     ]
    }
   ],
   "source": [
    "final_chamfer,_ = chamfer_distance((final_verts.unsqueeze(0).double() - center2)/scale2, verts2.unsqueeze(0).double())\n",
    "print('final Chamfer distance: %.6f'%(final_chamfer.detach().cpu().numpy()))\n"
   ]
  }
 ],
 "metadata": {
  "kernelspec": {
   "display_name": "jax",
   "language": "python",
   "name": "python3"
  },
  "language_info": {
   "codemirror_mode": {
    "name": "ipython",
    "version": 3
   },
   "file_extension": ".py",
   "mimetype": "text/x-python",
   "name": "python",
   "nbconvert_exporter": "python",
   "pygments_lexer": "ipython3",
   "version": "3.8.16"
  },
  "orig_nbformat": 4
 },
 "nbformat": 4,
 "nbformat_minor": 2
}
