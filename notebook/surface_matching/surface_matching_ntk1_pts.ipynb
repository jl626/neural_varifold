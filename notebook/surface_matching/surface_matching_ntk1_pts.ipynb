{
 "cells": [
  {
   "cell_type": "code",
   "execution_count": 1,
   "metadata": {},
   "outputs": [],
   "source": [
    "import sys\n",
    "sys.path.append( '../..' )\n",
    "import os\n",
    "import torch\n",
    "import torch.nn as nn \n",
    "import torch.nn.functional as F\n",
    "from pytorch3d.io import load_obj, save_obj, load_ply\n",
    "from pytorch3d.structures import Meshes\n",
    "from pytorch3d.utils import ico_sphere\n",
    "from pytorch3d.ops import sample_points_from_meshes\n",
    "from pytorch3d.loss import (\n",
    "    chamfer_distance, \n",
    "    mesh_edge_loss, \n",
    "    mesh_laplacian_smoothing, \n",
    "    mesh_normal_consistency,\n",
    ")\n",
    "import numpy as np\n",
    "from energy import tangent_kernel\n",
    "\n",
    "# Set the device\n",
    "if torch.cuda.is_available():\n",
    "    device = torch.device(\"cuda:0\")\n",
    "else:\n",
    "    device = torch.device(\"cpu\")\n",
    "    print(\"WARNING: CPU only, this will be slow!\")\n",
    "import input_output "
   ]
  },
  {
   "cell_type": "code",
   "execution_count": 2,
   "metadata": {},
   "outputs": [],
   "source": [
    "experiment_name = 'test'\n",
    "#experiment_name = 'Bunny'\n"
   ]
  },
  {
   "cell_type": "code",
   "execution_count": null,
   "metadata": {},
   "outputs": [],
   "source": [
    "data1 = np.loadtxt('/home/juheonlee/learning/neural_varifold/data/processed/airplane/airplane00.txt',delimiter=' ')\n",
    "data2 = np.loadtxt('/home/juheonlee/learning/neural_varifold/data/processed/airplane/airplane00.txt',delimiter=' ')"
   ]
  },
  {
   "cell_type": "code",
   "execution_count": 5,
   "metadata": {},
   "outputs": [],
   "source": [
    "class testnet(nn.Module):\n",
    "    def __init__(self):\n",
    "        super(testnet, self).__init__()\n",
    "        self.net = nn.Sequential(nn.Linear(3,64),nn.ReLU(),nn.Linear(64,128),nn.ReLU(),nn.Linear(128,3))\n",
    "    def forward(self,x):\n",
    "        return self.net(x)"
   ]
  },
  {
   "cell_type": "code",
   "execution_count": 6,
   "metadata": {},
   "outputs": [],
   "source": [
    "# optimizer setting\n",
    "#deform_verts = torch.full(src_mesh.verts_packed().shape, 0.0, device=device, requires_grad=True)\n",
    "#optimizer = torch.optim.SGD([deform_verts], lr=.01, momentum=0.9)\n",
    "#optimizer = torch.optim.Adam([deform_verts], lr=.01)\n",
    "models = testnet().cuda()\n",
    "optimizer = torch.optim.Adam(models.parameters(), lr=.01)\n",
    "scheduler = torch.optim.lr_scheduler.MultiStepLR(optimizer, milestones=[501,1001], gamma=0.1)\n",
    "\n",
    "# Number of optimization steps\n",
    "Niter = 2001\n",
    "\n",
    "# loss parameters\n",
    "\n",
    "# weight for varifold loss\n",
    "w_varifold = 10.0 \n",
    "# Weight for the chamfer loss\n",
    "w_chamfer = 1.0 \n",
    "# Weight for mesh edge loss\n",
    "w_edge = 1.0 \n",
    "# Weight for mesh normal consistency\n",
    "w_normal = 0.1 \n",
    "# Weight for mesh laplacian smoothing\n",
    "w_laplacian = 0.1 \n",
    "# Plot period for the losses\n",
    "plot_period = 250\n",
    "\n",
    "\n",
    "chamfer_losses = []\n",
    "laplacian_losses = []\n",
    "edge_losses = []\n",
    "normal_losses = []\n",
    "\n",
    "varifold = tangent_kernel(1,1.,0.05,3,mode='NTK1')\n",
    "def compute_engine(V1,V2,L1,L2,K):\n",
    "    cst_tmp = []\n",
    "    n_batch = 10000#4096\n",
    "    for i in range(len(V1)//n_batch + 1):\n",
    "        tmp = V1[i*n_batch:(i+1)*n_batch,:]\n",
    "        l_tmp = L1[i*n_batch:(i+1)*n_batch,:]\n",
    "        v = torch.matmul(K(tmp,V2),L2)*l_tmp\n",
    "        cst_tmp.append(v)\n",
    "    cst = torch.sum(torch.cat(cst_tmp,0))\n",
    "    return cst\n",
    "\n",
    "def CompCLNn(F, V):\n",
    "    if F.shape[1] == 2:\n",
    "        V0, V1 = V.index_select(0, F[:, 0]), V.index_select(0, F[:, 1])\n",
    "        C, N  =  (V0 + V1)/2, V1 - V0\n",
    "    else:\n",
    "        V0, V1, V2 = V.index_select(0, F[:, 0]), V.index_select(0, F[:, 1]), V.index_select(0, F[:, 2])\n",
    "        C, N =  (V0 + V1 + V2)/3, .5 * torch.cross(V1 - V0, V2 - V0)\n",
    "\n",
    "    L = (N ** 2).sum(dim=1)[:, None].sqrt()\n",
    "    return C, L, N / L, 1#Fun_F\n",
    "\n",
    "c,l,n,_ = CompCLNn(faces_idx1,verts1)"
   ]
  },
  {
   "cell_type": "code",
   "execution_count": 7,
   "metadata": {},
   "outputs": [
    {
     "name": "stdout",
     "output_type": "stream",
     "text": [
      "0 Iter: total_loss 0.061827 Chamfer_loss 0.111240 Varifold loss 0.00618269\n",
      "250 Iter: total_loss 0.000421 Chamfer_loss 0.036846 Varifold loss 0.00004215\n",
      "500 Iter: total_loss 0.000526 Chamfer_loss 0.035405 Varifold loss 0.00005256\n",
      "750 Iter: total_loss 0.000225 Chamfer_loss 0.034568 Varifold loss 0.00002253\n",
      "1000 Iter: total_loss 0.000193 Chamfer_loss 0.033725 Varifold loss 0.00001926\n",
      "1250 Iter: total_loss 0.000179 Chamfer_loss 0.033432 Varifold loss 0.00001791\n",
      "1500 Iter: total_loss 0.000173 Chamfer_loss 0.033120 Varifold loss 0.00001734\n",
      "1750 Iter: total_loss 0.000317 Chamfer_loss 0.033116 Varifold loss 0.00003167\n",
      "2000 Iter: total_loss 0.000142 Chamfer_loss 0.032603 Varifold loss 0.00001422\n"
     ]
    }
   ],
   "source": [
    "\n",
    "for i in range(Niter):\n",
    "    # Initialize optimizer\n",
    "    optimizer.zero_grad()\n",
    "    deform_verts = models(sv.cuda()) \n",
    "    \n",
    "    # Deform the mesh\n",
    "    \n",
    "    l1 = 1\n",
    "    l2 = 1\n",
    "    \n",
    "    v11 = compute_engine(c1,c1,l1,l1,varifold)\n",
    "    v22 = compute_engine(c2,c2,l2,l2,varifold) \n",
    "    v12 = compute_engine(c2,c1,l2,l1,varifold)\n",
    "\n",
    "    loss_varifold = v11 + v22 -2*v12\n",
    "\n",
    "    loss_chamfer, _ = chamfer_distance(c1.unsqueeze(0), c2.unsqueeze(0))\n",
    "\n",
    "    # and (b) the edge length of the predicted mesh\n",
    "    loss_edge = mesh_edge_loss(new_src_mesh)\n",
    "    \n",
    "    # mesh normal consistency\n",
    "    loss_normal = mesh_normal_consistency(new_src_mesh)\n",
    "\n",
    "    # mesh laplacian smoothing\n",
    "    loss_laplacian = mesh_laplacian_smoothing(new_src_mesh, method=\"uniform\")\n",
    "\n",
    "    # Weighted sum of the losses\n",
    "    # note PointNet-NTK1 param = 200 & learning rate 0.01 PointNet-NTK2 = 10 learning rate 0.01\n",
    "    loss = w_varifold *loss_varifold #+ loss_normal * w_normal # + loss_edge * w_edge + loss_laplacian * w_laplacian \n",
    "    # Print the losses\n",
    "    if i % plot_period==0:\n",
    "        print('%d Iter: total_loss %.6f Chamfer_loss %.6f Varifold loss %.8f'% (i,loss,loss_chamfer, loss_varifold))\n",
    "    \n",
    "    # Save the losses for plotting\n",
    "    #chamfer_losses.append(float(loss_chamfer.detach().cpu()))\n",
    "    #edge_losses.append(float(loss_edge.detach().cpu()))\n",
    "    #normal_losses.append(float(loss_normal.detach().cpu()))\n",
    "    #laplacian_losses.append(float(loss_laplacian.detach().cpu()))\n",
    "        \n",
    "    # Optimization step\n",
    "    loss.backward()\n",
    "    optimizer.step()"
   ]
  },
  {
   "cell_type": "code",
   "execution_count": 8,
   "metadata": {},
   "outputs": [
    {
     "name": "stdout",
     "output_type": "stream",
     "text": [
      "Done!\n"
     ]
    }
   ],
   "source": [
    "# Fetch the verts and faces of the final predicted mesh\n",
    "final_verts, final_faces = new_src_mesh.get_mesh_verts_faces(0)\n",
    "\n",
    "# Scale normalize back to the original target size\n",
    "final_verts = (final_verts) * scale2 + center2\n",
    "\n",
    "# Store the predicted mesh using save_obj\n",
    "#save_obj('./chamfer.obj', final_verts, final_faces)\n",
    "#save_obj('./charon_trouve.obj', final_verts, final_faces)\n",
    "save_obj('../../results/pointnet_ntk1_%s.obj'%(experiment_name), final_verts, final_faces)\n",
    "#save_obj('./pointnet_ntk2.obj', final_verts, final_faces)\n",
    "print('Done!')"
   ]
  }
 ],
 "metadata": {
  "kernelspec": {
   "display_name": "jax",
   "language": "python",
   "name": "python3"
  },
  "language_info": {
   "codemirror_mode": {
    "name": "ipython",
    "version": 3
   },
   "file_extension": ".py",
   "mimetype": "text/x-python",
   "name": "python",
   "nbconvert_exporter": "python",
   "pygments_lexer": "ipython3",
   "version": "3.8.16"
  },
  "orig_nbformat": 4
 },
 "nbformat": 4,
 "nbformat_minor": 2
}
